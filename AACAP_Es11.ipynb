{
  "nbformat": 4,
  "nbformat_minor": 0,
  "metadata": {
    "colab": {
      "name": "AACAP_Es11.ipynb",
      "provenance": [],
      "collapsed_sections": [
        "em9byVxG2GSy",
        "lAe_fRVjJtjv"
      ],
      "include_colab_link": true
    },
    "kernelspec": {
      "name": "python3",
      "display_name": "Python 3"
    },
    "language_info": {
      "name": "python"
    }
  },
  "cells": [
    {
      "cell_type": "markdown",
      "metadata": {
        "id": "view-in-github",
        "colab_type": "text"
      },
      "source": [
        "<a href=\"https://colab.research.google.com/github/AmadeusZhang/LabALGA/blob/main/AACAP_Es11.ipynb\" target=\"_parent\"><img src=\"https://colab.research.google.com/assets/colab-badge.svg\" alt=\"Open In Colab\"/></a>"
      ]
    },
    {
      "cell_type": "markdown",
      "metadata": {
        "id": "ShiGUvQ-zS_H"
      },
      "source": [
        "# Posix Threads\n",
        "Low level management of parallelism in C language: the programmer needs to manually manage threads creation and synchronization"
      ]
    },
    {
      "cell_type": "code",
      "metadata": {
        "id": "MeSYEluFKZz3",
        "colab": {
          "base_uri": "https://localhost:8080/"
        },
        "outputId": "9234765f-db90-424f-eaa0-d5e373edd21f"
      },
      "source": [
        "!mkdir /home/pthread\n",
        "%cd /home/pthread"
      ],
      "execution_count": null,
      "outputs": [
        {
          "output_type": "stream",
          "name": "stdout",
          "text": [
            "/home/pthread\n"
          ]
        }
      ]
    },
    {
      "cell_type": "markdown",
      "metadata": {
        "id": "em9byVxG2GSy"
      },
      "source": [
        "## Hello, World!\n",
        "First of all, let's write a program that concurrently writes the classic test message in a concurrent way"
      ]
    },
    {
      "cell_type": "code",
      "metadata": {
        "id": "RVdhgotwFLHR"
      },
      "source": [
        "%%writefile /home/pthread/hello_world.c\n",
        "\n",
        "#include <pthread.h>\n",
        "#include <stdio.h>\n",
        "\n",
        "pthread_mutex_t mux;\n",
        "pthread_cond_t cond;\n",
        "int actual_condition = 0;\n",
        "\n",
        "void * printMessage(void * threadIndex) {\n",
        "  if (*((unsigned int *) threadIndex) == 0) {\n",
        "    pthread_mutex_lock(&mux);\n",
        "    printf(\"Hello, \");\n",
        "    actual_condition = 1;\n",
        "    pthread_cond_signal(&cond);\n",
        "    pthread_mutex_unlock(&mux);\n",
        "  } else {\n",
        "    pthread_mutex_lock(&mux);\n",
        "    while (actual_condition == 0) {\n",
        "      pthread_cond_wait(&cond, &mux);\n",
        "    }\n",
        "    printf(\"World!\\n\");\n",
        "    pthread_mutex_unlock(&mux);\n",
        "  }\n",
        "  return 0;\n",
        "}\n",
        "\n",
        "int main() {\n",
        "\n",
        "  /* Thread data structures */\n",
        "  unsigned int idx[2];\n",
        "  pthread_t threads[2];\n",
        "  pthread_attr_t attr;\n",
        "\n",
        "  /* Initialize the attribute(s) for the threads creation */\n",
        "  pthread_attr_init(&attr);\n",
        "  pthread_attr_setdetachstate(&attr, PTHREAD_CREATE_JOINABLE);\n",
        "\n",
        "  pthread_mutex_init(&mux, NULL);\n",
        "  pthread_cond_init(&cond, NULL);\n",
        "\n",
        "  for (unsigned int ii = 0; ii < 2; ii++) {\n",
        "    idx[ii] = ii;\n",
        "    pthread_create(&threads[ii], &attr, printMessage, (void *) &idx[ii]);\n",
        "  }\n",
        "  pthread_join(threads[1], NULL);\n",
        "\n",
        "  /* Deallocate the structures */\n",
        "  pthread_mutex_destroy(&mux);\n",
        "  pthread_cond_destroy(&cond);\n",
        "  pthread_attr_destroy(&attr);\n",
        "\n",
        "  return 0;\n",
        "}"
      ],
      "execution_count": null,
      "outputs": []
    },
    {
      "cell_type": "markdown",
      "metadata": {
        "id": "460V7A1_Qp6Z"
      },
      "source": [
        "compile the source with the proper flags"
      ]
    },
    {
      "cell_type": "code",
      "metadata": {
        "id": "u7KgkkxdJkRK"
      },
      "source": [
        "%cd /home/pthread\n",
        "!clang hello_world.c -lpthread -o hello_world"
      ],
      "execution_count": null,
      "outputs": []
    },
    {
      "cell_type": "markdown",
      "metadata": {
        "id": "eNAGkguEQsMZ"
      },
      "source": [
        "and run the obtained binary"
      ]
    },
    {
      "cell_type": "code",
      "metadata": {
        "id": "uvBBkKyQKF6y"
      },
      "source": [
        "%cd /home/pthread\n",
        "!./hello_world"
      ],
      "execution_count": null,
      "outputs": []
    },
    {
      "cell_type": "markdown",
      "metadata": {
        "id": "9UZZo9UzQ1jB"
      },
      "source": [
        "what happened to our original code?"
      ]
    },
    {
      "cell_type": "code",
      "metadata": {
        "id": "ZHJWYxGeQ4uS"
      },
      "source": [
        "%cd /home/pthread\n",
        "!clang hello_world.c -S -emit-llvm -lpthread\n",
        "!cat hello_world.ll"
      ],
      "execution_count": null,
      "outputs": []
    },
    {
      "cell_type": "markdown",
      "metadata": {
        "id": "lAe_fRVjJtjv"
      },
      "source": [
        "## Merge Sort"
      ]
    },
    {
      "cell_type": "code",
      "metadata": {
        "id": "HoGW9sulN2r0",
        "colab": {
          "base_uri": "https://localhost:8080/"
        },
        "outputId": "c3eaf24b-2474-4199-9a24-c992ece8f2d8"
      },
      "source": [
        "%%writefile /home/pthread/merge_sort.c\n",
        "\n",
        "#define _POSIX_C_SOURCE 200112L\n",
        "\n",
        "#include <pthread.h>\n",
        "#include <stdbool.h>\n",
        "#include <stdio.h>\n",
        "#include <stdlib.h>\n",
        "\n",
        "#ifdef SILENT\n",
        "#define printf(...)\n",
        "#endif\n",
        "\n",
        "/* Pointer to data array */\n",
        "int * even_data, * odd_data;\n",
        "\n",
        "/* Size of data array */\n",
        "unsigned int array_size = 0;\n",
        "\n",
        "/* Number of threads */\n",
        "unsigned int num_threads = 0;\n",
        "\n",
        "/* Barriers */\n",
        "pthread_barrier_t barrier;\n",
        "\n",
        "/* Number of round */\n",
        "unsigned int current_round = 0;\n",
        "\n",
        "/* Variable used to store return value of thread 0 */\n",
        "unsigned int return_thread;\n",
        "\n",
        "/**\n",
        " * Initialize randomly a part of the input data\n",
        " * @param temp_index is the index identifying the thread\n",
        " */\n",
        "void * random_initialize(void * temp_index)\n",
        "{\n",
        "   /* The index of the current thread */\n",
        "   unsigned int index = *((unsigned int *) temp_index);\n",
        "   unsigned int seed = index;\n",
        "\n",
        "   unsigned int i;\n",
        "   for(i = index; i < array_size; i+=num_threads)\n",
        "   {\n",
        "      odd_data[i] = rand_r(&seed);\n",
        "   }\n",
        "   pthread_barrier_wait(&barrier);\n",
        "   return 0;\n",
        "}\n",
        "\n",
        "/**\n",
        " * Merge two subarrays already sorted\n",
        " * @param input_data is the array containing the two subarrays to be merged\n",
        " * @param starting_cell is the index of the first cell of the first subarray\n",
        " * @param size is the sum of the sizes of the two arrays\n",
        " * @param output_data is where result has to be stored\n",
        " */\n",
        "void bottom_up_merge(int * input_data, int starting_cell, int size, int * output_data)\n",
        "{\n",
        "   if(starting_cell > array_size)\n",
        "      return;\n",
        "\n",
        "   /*The last position to be written */\n",
        "   const int last_cell = (starting_cell + size <= array_size) ? starting_cell + size : array_size;\n",
        "\n",
        "   printf(\"Sorting cell %d %d\\n\", starting_cell, last_cell);\n",
        "\n",
        "   /*The position in the output data to be written */\n",
        "   int index = starting_cell;\n",
        "\n",
        "   /*The position in the left part of input data */\n",
        "   int left_index = starting_cell;\n",
        "\n",
        "   /*The position in the right part of input data */\n",
        "   int right_index = starting_cell + size/2;\n",
        "\n",
        "   /*The last position in the left part to be read*/\n",
        "   const int last_left = (right_index < last_cell) ? right_index : last_cell;\n",
        "\n",
        "   for(index = starting_cell; index < last_cell; index++)\n",
        "   {\n",
        "      printf(\"%d %d %d\\n\", left_index, last_left, input_data[left_index]);\n",
        "      printf(\"%d %d %d\\n\", right_index, last_cell, input_data[right_index]);\n",
        "      if(left_index < last_left && (right_index >= last_cell || input_data[left_index] <= input_data[right_index]))\n",
        "      {\n",
        "         output_data[index] = input_data[left_index];\n",
        "         left_index++;\n",
        "      }\n",
        "      else\n",
        "      {\n",
        "         output_data[index] = input_data[right_index];\n",
        "         right_index++;\n",
        "      }\n",
        "      printf(\"%d\\n\", output_data[index]);\n",
        "   }\n",
        "   printf(\"\\n\");\n",
        "}\n",
        "\n",
        "/**\n",
        " * Sort a subarray\n",
        " * @param starting_cell is the index of the first cell of the subarray\n",
        " * @param size is the size of the subarray to be sorted\n",
        " * @return true if final data are stored in odd_data\n",
        " */\n",
        "bool bottom_up_sort(unsigned int starting_cell, unsigned int size)\n",
        "{\n",
        "   printf(\"Sorting cell %d %d\\n\", starting_cell, starting_cell + size);\n",
        "   /*The size of the subsequence to be sorted in the current iteration */\n",
        "   int width = 0;\n",
        "\n",
        "   /*The number of the current iteration */\n",
        "   int iteration = 0;\n",
        "\n",
        "   for(width = 2; width < size*2; width = width * 2, iteration++)\n",
        "   {\n",
        "      /*The index of the subsequence to be considered */\n",
        "      int sequence = 0;\n",
        "      for(sequence = 0; sequence < size/width; sequence++)\n",
        "      {\n",
        "         /* Even iteration: the result is stored in even_data */\n",
        "         if(iteration%2 == 0)\n",
        "         {\n",
        "            bottom_up_merge(odd_data, starting_cell + sequence * width, width, even_data);\n",
        "         }\n",
        "         else\n",
        "         {\n",
        "            bottom_up_merge(even_data, starting_cell + sequence * width, width, odd_data);\n",
        "         }\n",
        "      }\n",
        "   }\n",
        "   return iteration%2 == 0;\n",
        "}\n",
        "\n",
        "/**\n",
        " * Sort an array\n",
        " * @param local_data is the index identifying a thread\n",
        " */\n",
        "void * sort_array(void * local_data)\n",
        "{\n",
        "   printf(\"Start\\n\");\n",
        "   /* The index of the current thread */\n",
        "   const unsigned int thread_index = *((unsigned int *) local_data);\n",
        "\n",
        "   /* Compute the size of the subarray to be processed */\n",
        "   unsigned int subarray_size = array_size/num_threads + (array_size%num_threads ? 1 : 0);\n",
        "\n",
        "   /* Round the size to higher power of two */\n",
        "   subarray_size--;\n",
        "   subarray_size |= subarray_size >> 1;\n",
        "   subarray_size |= subarray_size >> 2;\n",
        "   subarray_size |= subarray_size >> 4;\n",
        "   subarray_size |= subarray_size >> 8;\n",
        "   subarray_size |= subarray_size >> 16;\n",
        "   subarray_size++;\n",
        "\n",
        "   /* The starting cell */\n",
        "   const unsigned int starting_cell = thread_index * subarray_size;\n",
        "   printf(\"Thread %d - Sorting cell %d %d\\n\", thread_index, starting_cell, starting_cell + subarray_size);\n",
        "\n",
        "   /* Sort the assigned array portion */\n",
        "   bool odd = bottom_up_sort(starting_cell, subarray_size);\n",
        "\n",
        "   /* The inverse ratio of active threads */\n",
        "   int active_ratio = 2;\n",
        "\n",
        "   while(active_ratio <= num_threads)\n",
        "   {\n",
        "      /* Wait all the other threads */\n",
        "      pthread_barrier_wait(&barrier);\n",
        "\n",
        "      /* True if this thread has to merge the result with a right part */\n",
        "      const bool merge = thread_index%active_ratio == 0;\n",
        "      if(merge)\n",
        "      {\n",
        "         if(odd)\n",
        "            bottom_up_merge(odd_data, starting_cell, subarray_size * active_ratio, even_data);\n",
        "         else\n",
        "            bottom_up_merge(even_data, starting_cell, subarray_size * active_ratio, odd_data);\n",
        "      }\n",
        "      odd = !odd;\n",
        "      /* Halve the active threads */\n",
        "      active_ratio *= 2;\n",
        "\n",
        "   }\n",
        "   if(thread_index == 0)\n",
        "   {\n",
        "      return_thread = odd;\n",
        "      printf(\"Exiting from thread 0\\n\");\n",
        "      fflush(stdout);\n",
        "      pthread_exit(&return_thread);\n",
        "   }\n",
        "   return 0;\n",
        "}\n",
        "\n",
        "int main(int argc, char ** argv)\n",
        "{\n",
        "   if(argc != 3)\n",
        "   {\n",
        "      printf(\"Wrong number of parameters\\n\");\n",
        "      return 0;\n",
        "   }\n",
        "   array_size = (unsigned int) atoi(argv[1]);\n",
        "   num_threads = (unsigned int) atoi(argv[2]);\n",
        "   int* even_local_data = malloc(array_size * sizeof(unsigned int));\n",
        "   int* odd_local_data = malloc(array_size * sizeof(unsigned int));\n",
        "   even_data = &even_local_data[0];\n",
        "   odd_data = &odd_local_data[0];\n",
        "\n",
        "   /* The return value of a thread */\n",
        "   void * return_value;\n",
        "\n",
        "   /* Thread data structure */\n",
        "   pthread_t threads[num_threads];\n",
        "   unsigned int indexes[num_threads];\n",
        "   pthread_attr_t attr;\n",
        "\n",
        "   /*Initialize the barriers*/\n",
        "   pthread_barrier_init(&barrier, NULL, num_threads);\n",
        "\n",
        "   /* Create the threads */\n",
        "   pthread_attr_init(&attr);\n",
        "   pthread_attr_setdetachstate(&attr, PTHREAD_CREATE_JOINABLE);\n",
        "\n",
        "   unsigned int index;\n",
        "   for(index = 0; index < num_threads; index++)\n",
        "   {\n",
        "      indexes[index] = index;\n",
        "      pthread_create(&threads[index], &attr, random_initialize, (void *) &indexes[index]);\n",
        "   }\n",
        "   /* Wait the end of the first thread */\n",
        "   pthread_join(threads[0], &return_value);\n",
        "   printf(\"Created random input data\\n\");\n",
        "\n",
        "   for(index = 0; index < num_threads; index++)\n",
        "   {\n",
        "      indexes[index] = index;\n",
        "      pthread_create(&threads[index], &attr, sort_array, (void *) &indexes[index]);\n",
        "   }\n",
        "\n",
        "   /* Wait the end of the first thread */\n",
        "   pthread_join(threads[0], &return_value);\n",
        "   const int * output_data = *((int *)(return_value)) == 1 ? odd_data : even_data;\n",
        "\n",
        "   /* Print the final result */\n",
        "   for(index = 0; index < array_size; index++)\n",
        "   {\n",
        "      printf(\"%d \", output_data[index]);\n",
        "   }\n",
        "   printf(\"\\n\");\n",
        "}"
      ],
      "execution_count": null,
      "outputs": [
        {
          "output_type": "stream",
          "name": "stdout",
          "text": [
            "Writing /home/pthread/merge_sort.c\n"
          ]
        }
      ]
    },
    {
      "cell_type": "code",
      "metadata": {
        "id": "8dxNbqr4KWMQ",
        "colab": {
          "base_uri": "https://localhost:8080/"
        },
        "outputId": "bca13157-4c3a-4520-bef0-907fe680e263"
      },
      "source": [
        "%cd /home/pthread\n",
        "\n",
        "!clang merge_sort.c -pthread -o merge_sort"
      ],
      "execution_count": null,
      "outputs": [
        {
          "output_type": "stream",
          "name": "stdout",
          "text": [
            "/home/pthread\n"
          ]
        }
      ]
    },
    {
      "cell_type": "code",
      "metadata": {
        "id": "i7syOAwFOTP4"
      },
      "source": [
        "%cd /home/pthread\n",
        "\n",
        "!clang merge_sort.c -pthread -S -emit-llvm\n",
        "!cat merge_sort.ll"
      ],
      "execution_count": null,
      "outputs": []
    },
    {
      "cell_type": "code",
      "metadata": {
        "id": "En9Nj1M7LRoo"
      },
      "source": [
        "%cd /home/pthread\n",
        "\n",
        "!./merge_sort 80 4"
      ],
      "execution_count": null,
      "outputs": []
    },
    {
      "cell_type": "markdown",
      "metadata": {
        "id": "3h9XZobIr7Mr"
      },
      "source": [
        "# Pipelines in PThreads\n",
        "This piece of code creates a static number of threads (4) and synchronizes them using a barrier.\n",
        "\n",
        "The same result could be obtained, for example, using a simple mutex or even better with a condition variable. As an exercise, you can try to modify it in that sense.\n",
        "\n",
        "Tip: you may want to use pthread_cond_broadcast(), but any other solution is welcome!"
      ]
    },
    {
      "cell_type": "code",
      "metadata": {
        "id": "bRQ_Qt_LZLpK"
      },
      "source": [
        "%%writefile /home/pthread/pipeline.c\n",
        "\n",
        "#define _POSIX_C_SOURCE 200112L\n",
        "\n",
        "#define NUM_THREADS 4\n",
        "#define FILTER_SIZE 32\n",
        "#define WINDOW_SIZE 32\n",
        "#define BUFFER_SIZE WINDOW_SIZE + FILTER_SIZE-1 + WINDOW_SIZE\n",
        "#define SAMPLE_RATIO 8\n",
        "#define INPUT_SIZE 65536*16\n",
        "\n",
        "#include <pthread.h>\n",
        "#include <stdlib.h>\n",
        "#include <stdio.h>\n",
        "#include <string.h>\n",
        "\n",
        "/* First filter */\n",
        "float first_filter[FILTER_SIZE];\n",
        "\n",
        "/* Second filter */\n",
        "float second_filter[FILTER_SIZE];\n",
        "\n",
        "/* Buffers between first and second thread */\n",
        "float even_buffer_1[BUFFER_SIZE], odd_buffer_1[BUFFER_SIZE];\n",
        "\n",
        "/* Buffers between second and third thread */\n",
        "float even_buffer_2[(WINDOW_SIZE + WINDOW_SIZE)/4 + 1], odd_buffer_2[(WINDOW_SIZE + WINDOW_SIZE)/4 + 1];\n",
        "\n",
        "/* Buffers between third and fourth thread */\n",
        "float even_buffer_3[BUFFER_SIZE], odd_buffer_3[BUFFER_SIZE];\n",
        "\n",
        "/* Input */\n",
        "float input[INPUT_SIZE];\n",
        "\n",
        "/* Output */\n",
        "float output[WINDOW_SIZE];\n",
        "\n",
        "/* The pthread barrier used to synchronize the threads */\n",
        "pthread_barrier_t barr;\n",
        "\n",
        "/* Apply a finite impulse response filter */\n",
        "void * convolution_1(void * local_data)\n",
        "{\n",
        "   /* The position in the output circular buffers */\n",
        "   unsigned int output_buffer_position = 0;\n",
        "\n",
        "   /* The position in the input */\n",
        "   unsigned int input_position = 0;\n",
        "\n",
        "   /* The loop iteration counter */\n",
        "   unsigned int local_count = 0;\n",
        "\n",
        "   while(1)\n",
        "   {\n",
        "      unsigned int index;\n",
        "\n",
        "      /* Pick the output buffer according to the iteration counter */\n",
        "      float * out_buffer = (local_count % 2) == 0 ? even_buffer_1 : odd_buffer_1;\n",
        "\n",
        "      for(index = 0; index < WINDOW_SIZE && local_count < (INPUT_SIZE / WINDOW_SIZE); index++)\n",
        "      {\n",
        "         unsigned int coefficient_index = 0;\n",
        "         for(coefficient_index = 0; coefficient_index < FILTER_SIZE; coefficient_index++)\n",
        "         {\n",
        "            out_buffer[output_buffer_position] += first_filter[coefficient_index] * input[local_count * WINDOW_SIZE + index];\n",
        "         }\n",
        "         output_buffer_position++;\n",
        "         if(output_buffer_position == BUFFER_SIZE)\n",
        "         {\n",
        "            output_buffer_position = 0;\n",
        "         }\n",
        "      }\n",
        "\n",
        "      local_count++;\n",
        "\n",
        "      pthread_barrier_wait(&barr);\n",
        "   }\n",
        "   return 0;\n",
        "}\n",
        "\n",
        "/* Apply a finite impulse response filter */\n",
        "void * convolution_2(void * local_data)\n",
        "{\n",
        "   /* The position in the circular buffers */\n",
        "   int buffer_position = (-3 * WINDOW_SIZE);\n",
        "\n",
        "   /* The loop iteration counter */\n",
        "   unsigned int local_count = 0;\n",
        "\n",
        "   while(1)\n",
        "   {\n",
        "      unsigned int index;\n",
        "\n",
        "      /* Pick the input buffer according to the iteration counter */\n",
        "      float * in_buff = (local_count % 2) != 0 ? even_buffer_3 : odd_buffer_3;\n",
        "\n",
        "      for(index = 0; index < WINDOW_SIZE && local_count < (INPUT_SIZE / WINDOW_SIZE) + 3; index++)\n",
        "      {\n",
        "         if(buffer_position >= 0)\n",
        "            output[buffer_position] = 0;\n",
        "         unsigned int coefficient_index = 0;\n",
        "         for(coefficient_index = 0; coefficient_index < FILTER_SIZE; coefficient_index++)\n",
        "         {\n",
        "            /* Compute real position in circular buffer */\n",
        "            int real_input_position = buffer_position - coefficient_index;\n",
        "            if(real_input_position < 0)\n",
        "            {\n",
        "               real_input_position += WINDOW_SIZE;\n",
        "            }\n",
        "            if(buffer_position >= 0 && real_input_position >= 0)\n",
        "               output[buffer_position] += second_filter[coefficient_index] * in_buff[real_input_position];\n",
        "         }\n",
        "         buffer_position++;\n",
        "         if(buffer_position == WINDOW_SIZE)\n",
        "         {\n",
        "            buffer_position = 0;\n",
        "         }\n",
        "      }\n",
        "\n",
        "      local_count++;\n",
        "\n",
        "      pthread_barrier_wait(&barr);\n",
        "   }\n",
        "   return 0;\n",
        "}\n",
        "\n",
        "/* Perform the downsample */\n",
        "void * downsample(void * local_data)\n",
        "{\n",
        "   /* Index of the current sample */\n",
        "   unsigned int sample_counter = 0;\n",
        "\n",
        "   /* The position in the input circular buffer */\n",
        "   int input_buffer_position = -1 * WINDOW_SIZE;\n",
        "\n",
        "   /* The position in the output circular buffer */\n",
        "   int output_buffer_position = (-1 * WINDOW_SIZE) / SAMPLE_RATIO;\n",
        "\n",
        "   /* The number of times the following loop was executed */\n",
        "   unsigned int local_count = 0;\n",
        "\n",
        "   while(1)\n",
        "   {\n",
        "      /* The element in the current window */\n",
        "      unsigned int index = 0;\n",
        "\n",
        "      /* Pick the input/output buffers according to the iteration counter */\n",
        "      float * in_buff = (local_count % 2) != 0 ? even_buffer_1 : odd_buffer_1;\n",
        "      float * out_buff = (local_count % 2) != 0 ? even_buffer_2 : odd_buffer_2;\n",
        "\n",
        "      for(index = 0; index < WINDOW_SIZE && local_count < (INPUT_SIZE / WINDOW_SIZE) + 1; index++)\n",
        "      {\n",
        "         if(sample_counter % SAMPLE_RATIO == 0)\n",
        "         {\n",
        "            sample_counter = 0;\n",
        "            if(output_buffer_position >= 0 && input_buffer_position >= 0)\n",
        "               out_buff[output_buffer_position] = in_buff[input_buffer_position];\n",
        "            output_buffer_position++;\n",
        "            if(output_buffer_position == (WINDOW_SIZE + WINDOW_SIZE)/4 + 1)\n",
        "            {\n",
        "               output_buffer_position = 0;\n",
        "            }\n",
        "         }\n",
        "         sample_counter++;\n",
        "         input_buffer_position++;\n",
        "         if(input_buffer_position == BUFFER_SIZE)\n",
        "         {\n",
        "            input_buffer_position = 0;\n",
        "         }\n",
        "      }\n",
        "\n",
        "      local_count++;\n",
        "      pthread_barrier_wait(&barr);\n",
        "   }\n",
        "   return 0;\n",
        "}\n",
        "\n",
        "/* Perform the upsample */\n",
        "void * upsample(void * local_data)\n",
        "{\n",
        "   /* Index of the current sample */\n",
        "   unsigned int sample_counter = 0;\n",
        "\n",
        "   /* The position in the input circular buffer */\n",
        "   int input_buffer_position = (-2 * WINDOW_SIZE) / SAMPLE_RATIO;\n",
        "\n",
        "   /* The position in the output circular buffer */\n",
        "   int output_buffer_position = (-2 * WINDOW_SIZE);\n",
        "\n",
        "   /* The number of times the following loop was executed */\n",
        "   unsigned int local_count = 0;\n",
        "\n",
        "   while(1)\n",
        "   {\n",
        "      /* The element in the current window */\n",
        "      unsigned int index = 0;\n",
        "\n",
        "      /* Pick the input/output buffers according to the iteration counter */\n",
        "      float * in_buff = (local_count % 2) == 0 ? even_buffer_2 : odd_buffer_2;\n",
        "      float * out_buff = (local_count % 2) == 0 ? even_buffer_3 : odd_buffer_3;\n",
        "\n",
        "      for(index = 0; index < WINDOW_SIZE && local_count < (INPUT_SIZE / WINDOW_SIZE) + 2; index++)\n",
        "      {\n",
        "         if(sample_counter % SAMPLE_RATIO == 0)\n",
        "         {\n",
        "            if(output_buffer_position >= 0 && input_buffer_position >= 0)\n",
        "               out_buff[output_buffer_position] = in_buff[input_buffer_position];\n",
        "            sample_counter = 0;\n",
        "            input_buffer_position++;\n",
        "            if(input_buffer_position == (WINDOW_SIZE + WINDOW_SIZE)/4 + 1)\n",
        "            {\n",
        "               input_buffer_position = 0;\n",
        "            }\n",
        "         }\n",
        "         else\n",
        "         {\n",
        "            if(output_buffer_position >= 0)\n",
        "               out_buff[output_buffer_position] = 0;\n",
        "         }\n",
        "         sample_counter++;\n",
        "         output_buffer_position++;\n",
        "         if(output_buffer_position == BUFFER_SIZE)\n",
        "         {\n",
        "            output_buffer_position = 0;\n",
        "         }\n",
        "      }\n",
        "\n",
        "      local_count++;\n",
        "      pthread_barrier_wait(&barr);\n",
        "\n",
        "   }\n",
        "   return 0;\n",
        "}\n",
        "\n",
        "int main(int argc, char * * argv)\n",
        "{\n",
        "   unsigned int index;\n",
        "\n",
        "   /* Generate filters */\n",
        "   for (index = 0; index < FILTER_SIZE; index++)\n",
        "   {\n",
        "      first_filter[index] = index * FILTER_SIZE + index + 1;\n",
        "      second_filter[index] = index;\n",
        "   }\n",
        "\n",
        "   srand(0);\n",
        "   /* Generate the input */\n",
        "   for (index = 0; index < INPUT_SIZE; index++)\n",
        "   {\n",
        "      input[index] = ((float) rand() / (float) RAND_MAX) * 64.0f;\n",
        "   }\n",
        "\n",
        "   /* The current iteration */\n",
        "   unsigned int current_iteration = 0;\n",
        "\n",
        "   /* Thread data structure */\n",
        "   pthread_t threads[NUM_THREADS];\n",
        "   pthread_attr_t attr;\n",
        "\n",
        "   /* Initialize the barrier */\n",
        "   pthread_barrier_init(&barr, NULL, NUM_THREADS + 1);\n",
        "\n",
        "   /* Create the threads */\n",
        "   pthread_attr_init(&attr);\n",
        "   pthread_attr_setdetachstate(&attr, PTHREAD_CREATE_JOINABLE);\n",
        "\n",
        "   pthread_create(&threads[0], &attr, convolution_1, NULL);\n",
        "   pthread_create(&threads[1], &attr, downsample, NULL);\n",
        "   pthread_create(&threads[2], &attr, upsample, NULL);\n",
        "   pthread_create(&threads[3], &attr, convolution_2, NULL);\n",
        "\n",
        "   /* Counts the loop iterations */\n",
        "   unsigned int iteration_count = 0;\n",
        "\n",
        "   /* 3 iterations are added to the loop to allow values to be passed from the first thread to the last */ \n",
        "   while(iteration_count < INPUT_SIZE/WINDOW_SIZE + 3)\n",
        "   {\n",
        "      pthread_barrier_wait(&barr);\n",
        "      iteration_count++;\n",
        "   }\n",
        " \n",
        "    for(int count = 0; count < WINDOW_SIZE; count++)\n",
        "      printf(\"%f\\n\", output[count]);\n",
        "\n",
        "   return 0;\n",
        "}"
      ],
      "execution_count": null,
      "outputs": []
    },
    {
      "cell_type": "code",
      "metadata": {
        "id": "35XGDV4QVDfv"
      },
      "source": [
        "%cd /home/pthread\n",
        "!clang pipeline.c -pthread -o pipeline"
      ],
      "execution_count": null,
      "outputs": []
    },
    {
      "cell_type": "code",
      "metadata": {
        "id": "dwu3ksPmVWIX"
      },
      "source": [
        "%cd /home/pthread\n",
        "!./pipeline"
      ],
      "execution_count": null,
      "outputs": []
    },
    {
      "cell_type": "code",
      "metadata": {
        "id": "NSy9WteMVZ3u"
      },
      "source": [
        "%cd /home/pthread\n",
        "!clang pipeline.c -pthread -S -emit-llvm\n",
        "!cat pipeline.ll"
      ],
      "execution_count": null,
      "outputs": []
    },
    {
      "cell_type": "markdown",
      "source": [
        "# Task graphs exercises"
      ],
      "metadata": {
        "id": "j3nMf8Dl5rKr"
      }
    },
    {
      "cell_type": "markdown",
      "source": [
        "Considerato il programma seguente:\n",
        "\n",
        "\n",
        "*   Disegnare il task graph\n",
        "*   Dire quali task possono essere eseguiti in parallelo al task 7\n",
        "*   Trovare i valori minimi e massimi che la printf può stampare\n",
        "\n"
      ],
      "metadata": {
        "id": "1BPGqDsjC9zY"
      }
    },
    {
      "cell_type": "code",
      "source": [
        "%%writefile /home/pthread/graph_1.c\n",
        "\n",
        "#include <pthread.h>\n",
        "#include <stdlib.h>\n",
        "#include <stdio.h>\n",
        "\n",
        "int data1 = 0;\n",
        "int data2 = 0;\n",
        "int data3 = 0;\n",
        "\n",
        "pthread_t thread1, thread2, thread3, thread4;\n",
        "pthread_attr_t attr;\n",
        "\n",
        "/*Other global declarations */\n",
        "\n",
        "void * return_value;\n",
        "\n",
        "void * task1(void * input){\n",
        "    data1 = 2;\n",
        "    data2 = 3;\n",
        "    data3 = 1;\n",
        "    return NULL;\n",
        "}\n",
        "\n",
        "void * task6(void * input){\n",
        "    data1 = data1 + 6;\n",
        "    return NULL;\n",
        "}\n",
        "\n",
        "void * task2(void * input){\n",
        "    data1= data2 + 2;\n",
        "    pthread_create(&thread3, &attr, task6, NULL);\n",
        "    return NULL;\n",
        "}\n",
        "void * task3(void * input){\n",
        "    data2 = data2 + 3;\n",
        "    return NULL;\n",
        "}\n",
        "void * task4(void * input){\n",
        "    data3 = data1 + 4;\n",
        "    return NULL;\n",
        "}\n",
        "void * task5(void * input){\n",
        "    data2 = data2 + 5;\n",
        "    return NULL;\n",
        "}\n",
        "\n",
        "void * task7(void * input){\n",
        "    pthread_join(thread2, &return_value);\n",
        "    data3 = data2 + data3;\n",
        "    return NULL;\n",
        "}\n",
        "\n",
        "int main(int argc, char ** argv)\n",
        "{\n",
        " /* Declaration of data structure and initialization */\n",
        "    pthread_attr_init(&attr);\n",
        "    pthread_attr_setdetachstate(&attr, PTHREAD_CREATE_JOINABLE);\n",
        "    task1(NULL);\n",
        "    pthread_create(&thread1, &attr, task2, NULL);\n",
        "    pthread_create(&thread2, &attr, task4, NULL);\n",
        "    task3(NULL);\n",
        "    pthread_create(&thread4, &attr, task7, NULL);\n",
        "    pthread_join(thread3, &return_value);\n",
        "    pthread_join(thread4, &return_value);\n",
        "    task5(NULL);\n",
        "    printf(\"%d %d %d\\n\", data1, data2, data3);\n",
        "    return 0;\n",
        "}"
      ],
      "metadata": {
        "colab": {
          "base_uri": "https://localhost:8080/"
        },
        "id": "PG2emLnH8gx5",
        "outputId": "a13ac2d8-f193-465a-a164-ae3bdc7216ae"
      },
      "execution_count": null,
      "outputs": [
        {
          "output_type": "stream",
          "name": "stdout",
          "text": [
            "Overwriting /home/pthread/graph_1.c\n"
          ]
        }
      ]
    },
    {
      "cell_type": "code",
      "source": [
        "%cd /home/pthread\n",
        "!clang graph_1.c -pthread -o graph_1"
      ],
      "metadata": {
        "colab": {
          "base_uri": "https://localhost:8080/"
        },
        "id": "IcwB7A9o9IXa",
        "outputId": "71618d26-8d4a-4738-9bed-98caae057eb8"
      },
      "execution_count": null,
      "outputs": [
        {
          "output_type": "stream",
          "name": "stdout",
          "text": [
            "/home/pthread\n"
          ]
        }
      ]
    },
    {
      "cell_type": "code",
      "source": [
        "%cd /home/pthread\n",
        "!./graph_1"
      ],
      "metadata": {
        "id": "CoqsPH1E9RNj"
      },
      "execution_count": null,
      "outputs": []
    },
    {
      "cell_type": "markdown",
      "source": [
        "Considerato il programma seguente:\n",
        "\n",
        "\n",
        "*   Disegnare il task graph\n",
        "*   Dire quali task possono essere eseguiti in parallelo al task 6\n",
        "*   Trovare i valori minimi e massimi che la printf può stampare"
      ],
      "metadata": {
        "id": "rWdX-LI4Dl9T"
      }
    },
    {
      "cell_type": "code",
      "source": [
        "%%writefile /home/pthread/graph_2.c\n",
        "\n",
        "#include <pthread.h>\n",
        "#include <stdlib.h>\n",
        "#include <stdio.h>\n",
        "\n",
        "int data1 = 0;\n",
        "int data2 = 0;\n",
        "int data3 = 0;\n",
        "\n",
        "pthread_t thread1, thread2, thread3, thread4;\n",
        "pthread_attr_t attr;\n",
        "\n",
        "/*Other global declarations */\n",
        "\n",
        "void * return_value;\n",
        "\n",
        "void * task1(void * input){\n",
        "    data1 = 0;\n",
        "    data2 = 2;\n",
        "    data3 = 4;\n",
        "    return NULL;\n",
        "}\n",
        "\n",
        "void * task6(void * input){\n",
        "    data3 = data1 + 1;\n",
        "    return NULL;\n",
        "}\n",
        "\n",
        "void * task5(void * input){\n",
        "    data1 = data3 + 1;\n",
        "    return NULL;\n",
        "}\n",
        "\n",
        "void * task4(void * input){\n",
        "    data3 = data2 + 4;\n",
        "    pthread_create(&thread3, &attr, task5, NULL);\n",
        "    pthread_create(&thread4, &attr, task6, NULL);\n",
        "    return NULL;\n",
        "}\n",
        "\n",
        "void * task2(void * input){\n",
        "    data2 = data2 + 1;\n",
        "    return NULL;\n",
        "}\n",
        "void * task3(void * input){\n",
        "    data2 = data2 + 3;\n",
        "    pthread_join(thread1, NULL);\n",
        "    task4(NULL);\n",
        "    return NULL;\n",
        "}\n",
        "\n",
        "void * task7(void * input){\n",
        "    data3 = data2 + data3;\n",
        "    return NULL;\n",
        "}\n",
        "\n",
        "int main(int argc, char ** argv)\n",
        "{\n",
        " /* Declaration of data structure and initialization */\n",
        "    pthread_attr_init(&attr);\n",
        "    pthread_attr_setdetachstate(&attr, PTHREAD_CREATE_JOINABLE);\n",
        "    task1(NULL);\n",
        "    pthread_create(&thread1, &attr, task2, NULL);\n",
        "    task3(NULL);\n",
        "    pthread_join(thread4, NULL);\n",
        "    task7(NULL);\n",
        "    pthread_join(thread3, &return_value);\n",
        "    printf(\"%d %d %d\\n\", data1, data2, data3);\n",
        "    return 0;\n",
        "}"
      ],
      "metadata": {
        "colab": {
          "base_uri": "https://localhost:8080/"
        },
        "id": "GUNLJcr56hjI",
        "outputId": "8a935f7f-0938-4c58-c22e-943be7ce05b2"
      },
      "execution_count": null,
      "outputs": [
        {
          "output_type": "stream",
          "name": "stdout",
          "text": [
            "Overwriting /home/pthread/graph_2.c\n"
          ]
        }
      ]
    },
    {
      "cell_type": "code",
      "source": [
        "%cd /home/pthread\n",
        "!clang graph_2.c -pthread -o graph_2"
      ],
      "metadata": {
        "colab": {
          "base_uri": "https://localhost:8080/"
        },
        "id": "Z8OBBLcU9Z6H",
        "outputId": "4c972afa-981e-4ac2-a1a5-9e6f967d6ed8"
      },
      "execution_count": null,
      "outputs": [
        {
          "output_type": "stream",
          "name": "stdout",
          "text": [
            "/home/pthread\n"
          ]
        }
      ]
    },
    {
      "cell_type": "code",
      "source": [
        "%cd /home/pthread\n",
        "!./graph_2"
      ],
      "metadata": {
        "colab": {
          "base_uri": "https://localhost:8080/"
        },
        "id": "49Mesn8i-N51",
        "outputId": "f71fe95b-35f0-4e00-8a4a-438b1de82926"
      },
      "execution_count": null,
      "outputs": [
        {
          "output_type": "stream",
          "name": "stdout",
          "text": [
            "/home/pthread\n",
            "8 6 7\n"
          ]
        }
      ]
    }
  ]
}