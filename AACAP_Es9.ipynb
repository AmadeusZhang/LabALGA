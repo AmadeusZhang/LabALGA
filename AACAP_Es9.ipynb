{
  "nbformat": 4,
  "nbformat_minor": 0,
  "metadata": {
    "colab": {
      "name": "AACAP_Es9.ipynb",
      "provenance": [],
      "collapsed_sections": [],
      "include_colab_link": true
    },
    "kernelspec": {
      "name": "python3",
      "display_name": "Python 3"
    },
    "language_info": {
      "name": "python"
    }
  },
  "cells": [
    {
      "cell_type": "markdown",
      "metadata": {
        "id": "view-in-github",
        "colab_type": "text"
      },
      "source": [
        "<a href=\"https://colab.research.google.com/github/AmadeusZhang/LabALGA/blob/main/AACAP_Es9.ipynb\" target=\"_parent\"><img src=\"https://colab.research.google.com/assets/colab-badge.svg\" alt=\"Open In Colab\"/></a>"
      ]
    },
    {
      "cell_type": "markdown",
      "metadata": {
        "id": "XbIaJ73xbqUH"
      },
      "source": [
        "# **Notebook setup**"
      ]
    },
    {
      "cell_type": "code",
      "metadata": {
        "id": "4LITd9rUMM0R"
      },
      "source": [
        "!apt install clang"
      ],
      "execution_count": null,
      "outputs": []
    },
    {
      "cell_type": "markdown",
      "metadata": {
        "id": "rqlU-7n9lIAW"
      },
      "source": [
        "**Download the code**"
      ]
    },
    {
      "cell_type": "code",
      "metadata": {
        "id": "xnc66K_Ubmi6"
      },
      "source": [
        "!git clone https://github.com/google/benchmark.git\n",
        "!git clone https://github.com/google/googletest.git benchmark/googletest"
      ],
      "execution_count": null,
      "outputs": []
    },
    {
      "cell_type": "markdown",
      "metadata": {
        "id": "Z_Y0pLnSdChO"
      },
      "source": [
        "**Organize the code and install**"
      ]
    },
    {
      "cell_type": "code",
      "metadata": {
        "id": "0ihwVuUjdFiD"
      },
      "source": [
        "!rm -rf benchmark/build\n",
        "!cmake -E make_directory \"benchmark/build\"\n",
        "!cmake -E chdir \"benchmark/build\" cmake -DCMAKE_BUILD_TYPE=Release ..\n",
        "!cmake --build \"benchmark/build\" --config Release --target install"
      ],
      "execution_count": null,
      "outputs": []
    },
    {
      "cell_type": "markdown",
      "metadata": {
        "id": "6Sg4c3h1gtoy"
      },
      "source": [
        "# **Profiling the Karger and the Karger&Stein mincut algorithm**"
      ]
    },
    {
      "cell_type": "code",
      "metadata": {
        "id": "B4eBAv86gv6z"
      },
      "source": [
        "%%writefile karger.hpp\n",
        "#pragma once\n",
        "\n",
        "#include <algorithm>\n",
        "#include <cmath>\n",
        "#include <random>\n",
        "#include <stack>\n",
        "#include <vector>\n",
        "\n",
        "\n",
        "auto& prng_engine() {\n",
        "    thread_local static std::mt19937 engine{std::random_device{}()};\n",
        "    return engine;\n",
        "} \n",
        "\n",
        "\n",
        "template <typename node_t>\n",
        "struct Edge { node_t tail, head; };\n",
        "\n",
        "/* Represents a graph with n vertices as a collection of edges whose vertices are \n",
        " * indexed between 0 and n - 1. */\n",
        "template <typename node_t>\n",
        "struct EdgesVectorGraph\n",
        "{\n",
        "    node_t n; // number of vertices\n",
        "    std::vector<Edge<node_t>> edges;\n",
        "};\n",
        "\n",
        "\n",
        "/* An Union-Find data structure (https://en.wikipedia.org/wiki/Disjoint-set_data_structure) is a \n",
        " * data structure that stores a partition of a set into disjoint subsets. Tree height is \n",
        " * controlled using union by size. Uses path compression technique. */\n",
        "template <typename T>\n",
        "struct UnionFind\n",
        "{\n",
        "    struct Subset { \n",
        "        T id, size;\n",
        "\n",
        "        Subset(T _id, T _size) : id(_id), size(_size) \n",
        "        {}\n",
        "    };\n",
        "    std::vector<Subset> subsets;\n",
        "    T nb_subsets;\n",
        "\n",
        "    UnionFind(T n) : nb_subsets{n} { \n",
        "        subsets.reserve(n);\n",
        "        for (T i = 0; i < n; ++i)\n",
        "            subsets.emplace_back(i, 1);\n",
        "    }\n",
        "\n",
        "    auto find(T x) {\n",
        "        auto root = x;\n",
        "        while (root != subsets[root].id) \n",
        "        { \n",
        "            root = subsets[root].id; \n",
        "        }\n",
        "        while (subsets[x].id != root) \n",
        "        { \n",
        "            auto id = subsets[x].id; \n",
        "            subsets[x].id = root; \n",
        "            x = id; \n",
        "        }\n",
        "        return root;\n",
        "    }\n",
        "\n",
        "    void merge(T x, T y) {\n",
        "        auto const i = find(x); \n",
        "        auto const j = find(y);\n",
        "        if (i == j) return;\n",
        "        if (subsets[i].size < subsets[j].size) \n",
        "        { \n",
        "            subsets[i].id = j; \n",
        "            subsets[j].size += subsets[i].size;\n",
        "        }\n",
        "        else \n",
        "        {\n",
        "            subsets[j].id = i; \n",
        "            subsets[i].size += subsets[j].size;\n",
        "        }\n",
        "        --nb_subsets;\n",
        "    }\n",
        "\n",
        "    bool connected(T x, T y) { return find(x) == find(y); }\n",
        "};\n",
        "\n",
        "\n",
        "/* A data structure representing a cut of a graph. */\n",
        "template <typename node_t>\n",
        "struct GraphCut\n",
        "{\n",
        "    std::size_t cut_size;\n",
        "    UnionFind<node_t> uf; // used to identify the two partitions of nodes\n",
        "    GraphCut(std::size_t _cut_size, UnionFind<node_t> _uf) : cut_size(_cut_size), uf(_uf) {}\n",
        "\n",
        "    bool operator<(GraphCut const& other) const { return cut_size < other.cut_size; }\n",
        "\n",
        "    auto get_partitions() const {\n",
        "        std::vector<node_t> P, Q;\n",
        "        P.reserve(uf.subsets[0].size); \n",
        "        Q.reserve(std::size(uf.subsets) - std::size(P));\n",
        "        for (node_t i = 0; i < std::size(uf.subsets); ++i)\n",
        "            uf.subsets[i].id == uf.subsets[0].id ? P.push_back(i) : Q.push_back(i);\n",
        "        return std::array{P, Q};\n",
        "    }\n",
        "};\n",
        "\n",
        "\n",
        "/* Karger's contraction algorithm in O(n + mα(n)) using an Union-Find data structure to keep track\n",
        " * of merged vertices. The graph is assumed to be connected and nodes indexed between 0 and n-1. Repeat\n",
        " * this function C(n,2)*log(n) = n*(n-1)/2*log(n) for high probability of obtaining the minimum global\n",
        " * cut. The graph isn't per se modifed, only its vector of edges is shuffled. */\n",
        "template <typename node_t>\n",
        "GraphCut<node_t> karger_union_find(EdgesVectorGraph<node_t>& graph)\n",
        "{\n",
        "    auto& mt = prng_engine();\n",
        "    UnionFind uf{graph.n};\n",
        "    auto start = begin(graph.edges);\n",
        "    for (int m = size(graph.edges) - 1; uf.nb_subsets != 2; ++start, --m) {\n",
        "        std::iter_swap(start, start + std::uniform_int_distribution<>{0, m}(mt));\n",
        "        uf.merge(start->tail, start->head);\n",
        "    }\n",
        "    return {(std::size_t) std::count_if(start, end(graph.edges), [&](auto e)\n",
        "        { return !uf.connected(e.tail, e.head); }), std::move(uf)};\n",
        "}\n",
        "\n",
        "\n",
        "/* Kargen-Stein's contraction recursive algorithm. Instead of using a straighforward recursion, we\n",
        " * keep the intermediate graphs to contract in a stack. Repeat this function log²(n) for high \n",
        " * probability of obtaining the minimum global cut. */\n",
        "template <typename node_t>\n",
        "auto karger_stein_union_find(EdgesVectorGraph<node_t> const& input_graph)\n",
        "{\n",
        "    /* A data structure to hold an intermediate contracted graph state. \n",
        "     * The Union-Find structure is used to keep track of the merged nodes. */ \n",
        "    struct ContractedGraph : EdgesVectorGraph<node_t> { UnionFind<node_t> uf; };\n",
        "\n",
        "    /* Contracts the given graph until it has 'nb_vertices' vertices. \n",
        "     * The graph is not per se modifed, only its vector of edges is shuffled. */\n",
        "    auto contract = [&mt = prng_engine()](ContractedGraph& graph, node_t nb_vertices) {   \n",
        "        UnionFind uf{graph.uf};\n",
        "        auto start = begin(graph.edges);\n",
        "        for (int m = size(graph.edges) - 1; uf.nb_subsets != nb_vertices; ++start, --m) {\n",
        "            std::iter_swap(start, start + std::uniform_int_distribution<>{0, m}(mt));\n",
        "            uf.merge(start->tail, start->head);\n",
        "        }\n",
        "        decltype(graph.edges) edges;\n",
        "        edges.reserve(end(graph.edges) - start);\n",
        "        std::copy_if(start, end(graph.edges), std::back_inserter(edges),\n",
        "            [&](auto e){ return !uf.connected(e.tail, e.head); }); // remove self-loops\n",
        "        return ContractedGraph{nb_vertices, std::move(edges), std::move(uf)};\n",
        "    };\n",
        "\n",
        "    /* Returns the cut represented by an intermediate contracted graph. The given graph is supposed\n",
        "    to have no self-loops and to have two nodes (components). */\n",
        "    auto cut = [](ContractedGraph&& graph){ return GraphCut{std::size(graph.edges), graph.uf}; };\n",
        "    \n",
        "    double INV_SQRT_2 = 1.0 / std::sqrt(2);\n",
        "    GraphCut<node_t> best_minimum_cut{input_graph.n, {{}}};\n",
        "    std::stack<ContractedGraph, std::vector<ContractedGraph>> graphs;\n",
        "    graphs.push({input_graph.n, input_graph.edges, {input_graph.n}});\n",
        "\n",
        "    while (!graphs.empty()) // algorithm's main loop\n",
        "    {\n",
        "        auto graph = graphs.top();\n",
        "        graphs.pop();\n",
        "\n",
        "        if (graph.n <= 6) {\n",
        "            best_minimum_cut = std::min(best_minimum_cut, cut(contract(graph, 2)));\n",
        "        } else {\n",
        "            node_t t = 1 + std::ceil(graph.n * INV_SQRT_2);\n",
        "            graphs.push(contract(graph, t));\n",
        "            graphs.push(contract(graph, t));\n",
        "        }\n",
        "    }\n",
        "\n",
        "    return best_minimum_cut;\n",
        "}"
      ],
      "execution_count": null,
      "outputs": []
    },
    {
      "cell_type": "code",
      "metadata": {
        "id": "9RxVxkbS1H6o",
        "colab": {
          "base_uri": "https://localhost:8080/"
        },
        "outputId": "1d920de6-44e9-4497-f354-3a6fd9345cd7"
      },
      "source": [
        "%%writefile instance_reader.hpp\n",
        "#pragma once\n",
        "\n",
        "#include <fstream>\n",
        "#include <sstream>\n",
        "#include <string>\n",
        "#include <vector>\n",
        "#include \"karger.hpp\"\n",
        "\n",
        "\n",
        "template <typename node_t>\n",
        "EdgesVectorGraph<node_t> read_col_instance(std::string_view file) {\n",
        "    EdgesVectorGraph<node_t> graph;\n",
        "    std::ifstream instance;\n",
        "    instance.open(file.data());\n",
        "    if (!instance) {\n",
        "        std::cout << file << std::endl;\n",
        "        throw std::runtime_error(\"Such instance doesn't exist. \");\n",
        "    }\n",
        "    for (std::string line; std::getline(instance, line);)\n",
        "    {\n",
        "        std::istringstream input(line);\n",
        "        switch(line[0]) {\n",
        "            case 'p':\n",
        "                input.ignore(6);\n",
        "                std::size_t m;\n",
        "                input >> graph.n >> m;\n",
        "                graph.edges.reserve(m);\n",
        "                break;\n",
        "            case 'e':\n",
        "                input.ignore(2);\n",
        "                Edge<node_t> edge;\n",
        "                input >> edge.tail >> edge.head;\n",
        "                --edge.tail; --edge.head; // instance files starting vertex is 1\n",
        "                graph.edges.push_back(std::move(edge));\n",
        "                break;\n",
        "            default:\n",
        "                break;\n",
        "        }\n",
        "    }\n",
        "    return graph;\n",
        "}"
      ],
      "execution_count": null,
      "outputs": [
        {
          "output_type": "stream",
          "name": "stdout",
          "text": [
            "Overwriting instance_reader.hpp\n"
          ]
        }
      ]
    },
    {
      "cell_type": "code",
      "metadata": {
        "id": "TRFBFfNt1S_X",
        "colab": {
          "base_uri": "https://localhost:8080/"
        },
        "outputId": "51ccb376-7ce6-44ef-820f-b60b1bd1f4bd"
      },
      "source": [
        "%%writefile main.cpp\n",
        "#include <cstdint>\n",
        "#include <iostream>\n",
        "#include <functional>\n",
        "#include <array>\n",
        "#include <chrono>\n",
        "\n",
        "#include \"karger.hpp\"\n",
        "#include \"instance_reader.hpp\"\n",
        "\n",
        "\n",
        "void minimal_example()\n",
        "{\n",
        "    EdgesVectorGraph<int> graph{8, {\n",
        "        {0, 1}, {0, 2}, {0, 3}, {1, 2}, {1, 3}, {2, 3}, {4, 5},\n",
        "        {4, 6}, {4, 7}, {5, 6}, {5, 7}, {6, 7}, {1, 4}, {3, 4}\n",
        "    }};\n",
        "\n",
        "    auto cut = karger_union_find(graph); // or karger_stein_union_find(graph)\n",
        "\n",
        "    std::cout << \"Cut's size: \" << cut.cut_size << '\\n';\n",
        "\n",
        "    std::cout << \"Partitions: \";\n",
        "    for (auto const& partition : cut.get_partitions()) {\n",
        "        std::cout << \"{ \";\n",
        "        for (auto u : partition) std::cout << u << ' ';\n",
        "        std::cout << \"} \";\n",
        "    }\n",
        "}\n",
        "\n",
        "\n",
        "int main(int argc, char* argv[])\n",
        "{\n",
        "    using node_t = std::uint32_t;\n",
        "    if (argc != 2) throw std::runtime_error(\"No input file.\");\n",
        "    auto graph = read_col_instance<node_t>(argv[1]);\n",
        "\n",
        "    std::cout << \"\\nInput graph: \\\"\" << argv[1] << \"\\\" (|V| = \" << graph.n << \", |E| = \"\n",
        "        << std::size(graph.edges) << \")\\n\";\n",
        "\n",
        "    struct MinimumCutAlgorithm {\n",
        "        std::string name;\n",
        "        std::function<GraphCut<node_t>(EdgesVectorGraph<node_t>&)> algorithm;\n",
        "        std::size_t nb_repeat;\n",
        "        auto operator()(EdgesVectorGraph<node_t>& graph) const { return algorithm(graph); }\n",
        "    };\n",
        "\n",
        "    std::array<MinimumCutAlgorithm, 2> algorithms{{\n",
        "        {\"Karger\",       karger_union_find<node_t>,       static_cast<std::size_t>(0.5 * graph.n * (graph.n - 1) * std::log(graph.n)) / 6},\n",
        "        {\"Karger-Stein\", karger_stein_union_find<node_t>, static_cast<std::size_t>(std::log(graph.n) * std::log(graph.n))}\n",
        "    }}; \n",
        "\n",
        "    for (auto const& algorithm : algorithms)\n",
        "    {\n",
        "        std::cout << \"\\nAlgorithm: \\\"\" << algorithm.name << \"\\\"\\n\"\n",
        "                  << \"    - Number of repetitions: \" << algorithm.nb_repeat << '\\n';\n",
        "        GraphCut<node_t> best_minimum_cut{graph.n, {{}}};\n",
        "        auto time_start{std::chrono::steady_clock::now()};\n",
        "\n",
        "        for(std::size_t i = algorithm.nb_repeat; i; --i)\n",
        "            best_minimum_cut = std::min(best_minimum_cut, algorithm(graph));\n",
        "        \n",
        "        auto duration = std::chrono::duration_cast<std::chrono::microseconds>(std::chrono::steady_clock::now() - time_start).count();\n",
        "        std::cout << \"    - Best minimum cut's size found: \" << best_minimum_cut.cut_size\n",
        "                  << \"\\n    - Duration: \" << duration << \"us\\n\";\n",
        "    }\n",
        "    \n",
        "    std::cout << \"\\n\";\n",
        "}"
      ],
      "execution_count": null,
      "outputs": [
        {
          "output_type": "stream",
          "name": "stdout",
          "text": [
            "Overwriting main.cpp\n"
          ]
        }
      ]
    },
    {
      "cell_type": "code",
      "metadata": {
        "id": "arZ3LrdBCL8f"
      },
      "source": [
        "!clang++ main.cpp -O2 -std=c++2a -isystem benchmark/include -Lbenchmark/build/src -lbenchmark -lpthread -o karger -g"
      ],
      "execution_count": null,
      "outputs": []
    },
    {
      "cell_type": "code",
      "metadata": {
        "id": "pddnFoX9RTSJ",
        "colab": {
          "base_uri": "https://localhost:8080/"
        },
        "outputId": "6b7a3806-1ba1-4e5e-b176-cd357dce2f02"
      },
      "source": [
        "%%writefile toy.col\n",
        "p edge 6 9\n",
        "e 1 2\n",
        "e 1 3\n",
        "e 2 3\n",
        "e 2 4\n",
        "e 3 4\n",
        "e 3 5\n",
        "e 4 5\n",
        "e 4 6\n",
        "e 5 6"
      ],
      "execution_count": null,
      "outputs": [
        {
          "output_type": "stream",
          "name": "stdout",
          "text": [
            "Overwriting toy.col\n"
          ]
        }
      ]
    },
    {
      "cell_type": "code",
      "metadata": {
        "id": "FAkgJ0RJCivZ",
        "colab": {
          "base_uri": "https://localhost:8080/"
        },
        "outputId": "8218757c-1072-4e44-9d47-f9d1ad3d9a27"
      },
      "source": [
        "!./karger toy.col"
      ],
      "execution_count": null,
      "outputs": [
        {
          "output_type": "stream",
          "name": "stdout",
          "text": [
            "\n",
            "Input graph: \"toy.col\" (|V| = 6, |E| = 9)\n",
            "\n",
            "Algorithm: \"Karger\"\n",
            "    - Number of repetitions: 4\n",
            "    - Best minimum cut's size found: 3\n",
            "    - Duration: 18us\n",
            "\n",
            "Algorithm: \"Karger-Stein\"\n",
            "    - Number of repetitions: 3\n",
            "    - Best minimum cut's size found: 3\n",
            "    - Duration: 13us\n",
            "\n"
          ]
        }
      ]
    },
    {
      "cell_type": "markdown",
      "metadata": {
        "id": "ONfyGGbxC7Ai"
      },
      "source": [
        "# References\n",
        "\n",
        "---\n",
        "GitHub repo [link](https://github.com/ArthurRouquan/KargerSteinAlgorithm).\n",
        "\n"
      ]
    }
  ]
}